{
  "nbformat": 4,
  "nbformat_minor": 0,
  "metadata": {
    "colab": {
      "name": "Test_Tree-parsers_Filatova.ipynb",
      "provenance": [],
      "collapsed_sections": []
    },
    "kernelspec": {
      "name": "python3",
      "display_name": "Python 3"
    },
    "language_info": {
      "name": "python"
    }
  },
  "cells": [
    {
      "cell_type": "code",
      "execution_count": 1,
      "metadata": {
        "colab": {
          "base_uri": "https://localhost:8080/"
        },
        "id": "QyhwBHvxU_uZ",
        "outputId": "9f1e4885-8e93-447e-8849-d533b63479f6"
      },
      "outputs": [
        {
          "output_type": "stream",
          "name": "stdout",
          "text": [
            "Collecting ufal.udpipe\n",
            "  Downloading ufal.udpipe-1.2.0.3.tar.gz (304 kB)\n",
            "\u001b[?25l\r\u001b[K     |█                               | 10 kB 25.9 MB/s eta 0:00:01\r\u001b[K     |██▏                             | 20 kB 28.9 MB/s eta 0:00:01\r\u001b[K     |███▎                            | 30 kB 32.1 MB/s eta 0:00:01\r\u001b[K     |████▎                           | 40 kB 35.2 MB/s eta 0:00:01\r\u001b[K     |█████▍                          | 51 kB 38.8 MB/s eta 0:00:01\r\u001b[K     |██████▌                         | 61 kB 33.8 MB/s eta 0:00:01\r\u001b[K     |███████▌                        | 71 kB 28.1 MB/s eta 0:00:01\r\u001b[K     |████████▋                       | 81 kB 28.3 MB/s eta 0:00:01\r\u001b[K     |█████████▊                      | 92 kB 29.9 MB/s eta 0:00:01\r\u001b[K     |██████████▊                     | 102 kB 27.7 MB/s eta 0:00:01\r\u001b[K     |███████████▉                    | 112 kB 27.7 MB/s eta 0:00:01\r\u001b[K     |█████████████                   | 122 kB 27.7 MB/s eta 0:00:01\r\u001b[K     |██████████████                  | 133 kB 27.7 MB/s eta 0:00:01\r\u001b[K     |███████████████                 | 143 kB 27.7 MB/s eta 0:00:01\r\u001b[K     |████████████████▏               | 153 kB 27.7 MB/s eta 0:00:01\r\u001b[K     |█████████████████▎              | 163 kB 27.7 MB/s eta 0:00:01\r\u001b[K     |██████████████████▎             | 174 kB 27.7 MB/s eta 0:00:01\r\u001b[K     |███████████████████▍            | 184 kB 27.7 MB/s eta 0:00:01\r\u001b[K     |████████████████████▌           | 194 kB 27.7 MB/s eta 0:00:01\r\u001b[K     |█████████████████████▌          | 204 kB 27.7 MB/s eta 0:00:01\r\u001b[K     |██████████████████████▋         | 215 kB 27.7 MB/s eta 0:00:01\r\u001b[K     |███████████████████████▊        | 225 kB 27.7 MB/s eta 0:00:01\r\u001b[K     |████████████████████████▉       | 235 kB 27.7 MB/s eta 0:00:01\r\u001b[K     |█████████████████████████▉      | 245 kB 27.7 MB/s eta 0:00:01\r\u001b[K     |███████████████████████████     | 256 kB 27.7 MB/s eta 0:00:01\r\u001b[K     |████████████████████████████    | 266 kB 27.7 MB/s eta 0:00:01\r\u001b[K     |█████████████████████████████   | 276 kB 27.7 MB/s eta 0:00:01\r\u001b[K     |██████████████████████████████▏ | 286 kB 27.7 MB/s eta 0:00:01\r\u001b[K     |███████████████████████████████▎| 296 kB 27.7 MB/s eta 0:00:01\r\u001b[K     |████████████████████████████████| 304 kB 27.7 MB/s \n",
            "\u001b[?25hBuilding wheels for collected packages: ufal.udpipe\n",
            "  Building wheel for ufal.udpipe (setup.py) ... \u001b[?25l\u001b[?25hdone\n",
            "  Created wheel for ufal.udpipe: filename=ufal.udpipe-1.2.0.3-cp37-cp37m-linux_x86_64.whl size=5626622 sha256=e5f6f4ff007a2ce7d3258e7bfe6acf8d9108390ba4ef9daab0ef420d84957ee3\n",
            "  Stored in directory: /root/.cache/pip/wheels/b8/b5/8e/3da091629a21ce2d10bf90759d0cb034ba10a5cf7a01e83d64\n",
            "Successfully built ufal.udpipe\n",
            "Installing collected packages: ufal.udpipe\n",
            "Successfully installed ufal.udpipe-1.2.0.3\n"
          ]
        }
      ],
      "source": [
        "! pip3 install ufal.udpipe"
      ]
    },
    {
      "cell_type": "code",
      "source": [
        "from ufal.udpipe import Model, Pipeline"
      ],
      "metadata": {
        "id": "4HyAZJBRVMU6"
      },
      "execution_count": 88,
      "outputs": []
    },
    {
      "cell_type": "code",
      "source": [
        "UDPIPE_MODEL_FN = \"model_ru.udpipe\"\n",
        "!wget -O {UDPIPE_MODEL_FN} https://github.com/jwijffels/udpipe.models.ud.2.0/blob/master/inst/udpipe-ud-2.0-170801/russian-ud-2.0-170801.udpipe?raw=true"
      ],
      "metadata": {
        "colab": {
          "base_uri": "https://localhost:8080/"
        },
        "id": "7b7uA4WhVikc",
        "outputId": "643f52b3-9060-405a-9d08-c319affd7007"
      },
      "execution_count": 89,
      "outputs": [
        {
          "output_type": "stream",
          "name": "stdout",
          "text": [
            "--2022-02-12 17:40:51--  https://github.com/jwijffels/udpipe.models.ud.2.0/blob/master/inst/udpipe-ud-2.0-170801/russian-ud-2.0-170801.udpipe?raw=true\n",
            "Resolving github.com (github.com)... 140.82.113.4\n",
            "Connecting to github.com (github.com)|140.82.113.4|:443... connected.\n",
            "HTTP request sent, awaiting response... 302 Found\n",
            "Location: https://github.com/jwijffels/udpipe.models.ud.2.0/raw/master/inst/udpipe-ud-2.0-170801/russian-ud-2.0-170801.udpipe [following]\n",
            "--2022-02-12 17:40:51--  https://github.com/jwijffels/udpipe.models.ud.2.0/raw/master/inst/udpipe-ud-2.0-170801/russian-ud-2.0-170801.udpipe\n",
            "Reusing existing connection to github.com:443.\n",
            "HTTP request sent, awaiting response... 302 Found\n",
            "Location: https://raw.githubusercontent.com/jwijffels/udpipe.models.ud.2.0/master/inst/udpipe-ud-2.0-170801/russian-ud-2.0-170801.udpipe [following]\n",
            "--2022-02-12 17:40:51--  https://raw.githubusercontent.com/jwijffels/udpipe.models.ud.2.0/master/inst/udpipe-ud-2.0-170801/russian-ud-2.0-170801.udpipe\n",
            "Resolving raw.githubusercontent.com (raw.githubusercontent.com)... 185.199.110.133, 185.199.109.133, 185.199.111.133, ...\n",
            "Connecting to raw.githubusercontent.com (raw.githubusercontent.com)|185.199.110.133|:443... connected.\n",
            "HTTP request sent, awaiting response... 200 OK\n",
            "Length: 13265262 (13M) [application/octet-stream]\n",
            "Saving to: ‘model_ru.udpipe’\n",
            "\n",
            "model_ru.udpipe     100%[===================>]  12.65M  --.-KB/s    in 0.06s   \n",
            "\n",
            "2022-02-12 17:40:51 (197 MB/s) - ‘model_ru.udpipe’ saved [13265262/13265262]\n",
            "\n"
          ]
        }
      ]
    },
    {
      "cell_type": "code",
      "source": [
        "model = Model.load(UDPIPE_MODEL_FN)"
      ],
      "metadata": {
        "id": "H9ksSQIbVnHF"
      },
      "execution_count": 90,
      "outputs": []
    },
    {
      "cell_type": "code",
      "source": [
        "sent = \"В Африке акулы, В Африке гориллы, В Африке большие Злые крокодилы\"\n",
        "print(sent)"
      ],
      "metadata": {
        "colab": {
          "base_uri": "https://localhost:8080/"
        },
        "id": "HTlr0vjwVrMC",
        "outputId": "da1bef64-d60b-43c6-94b6-d7b74f55739c"
      },
      "execution_count": 91,
      "outputs": [
        {
          "output_type": "stream",
          "name": "stdout",
          "text": [
            "В Африке акулы, В Африке гориллы, В Африке большие Злые крокодилы\n"
          ]
        }
      ]
    },
    {
      "cell_type": "code",
      "source": [
        "pipeline = Pipeline(model, 'generic_tokenizer', '','','')"
      ],
      "metadata": {
        "id": "-gjLFEcvVzk3"
      },
      "execution_count": 92,
      "outputs": []
    },
    {
      "cell_type": "code",
      "source": [
        "parsed = pipeline.process(sent) # функция process сделает синтаксический анализ\n",
        "print(parsed) # печатаем результат\n"
      ],
      "metadata": {
        "colab": {
          "base_uri": "https://localhost:8080/"
        },
        "id": "Awq9P7QEV2g-",
        "outputId": "dc7cceb6-b707-4ed0-fdee-cd13c18c038c"
      },
      "execution_count": 93,
      "outputs": [
        {
          "output_type": "stream",
          "name": "stdout",
          "text": [
            "# newdoc\n",
            "# newpar\n",
            "# sent_id = 1\n",
            "# text = В Африке акулы, В Африке гориллы, В Африке большие Злые крокодилы\n",
            "1\tВ\tВ\tADP\tIN\t_\t2\tcase\t_\t_\n",
            "2\tАфрике\tАФРИКА\tPROPN\tNNP\tAnimacy=Inan|Case=Loc|Gender=Fem|Number=Sing\t0\troot\t_\t_\n",
            "3\tакулы\tАКУЛА\tNOUN\tNN\tAnimacy=Anim|Case=Nom|Gender=Fem|Number=Plur\t2\tappos\t_\tSpaceAfter=No\n",
            "4\t,\t,\tPUNCT\t,\t_\t3\tpunct\t_\t_\n",
            "5\tВ\tВ\tADP\tIN\t_\t6\tcase\t_\t_\n",
            "6\tАфрике\tАФРИКА\tPROPN\tNNP\tAnimacy=Inan|Case=Loc|Gender=Fem|Number=Sing\t7\tnmod\t_\t_\n",
            "7\tгориллы\tгориллы\tNOUN\tNN\tAnimacy=Inan|Case=Nom|Gender=Masc|Number=Plur\t2\tappos\t_\tSpaceAfter=No\n",
            "8\t,\t,\tPUNCT\t,\t_\t2\tpunct\t_\t_\n",
            "9\tВ\tВ\tADP\tIN\t_\t10\tcase\t_\t_\n",
            "10\tАфрике\tАФРИКА\tPROPN\tNNP\tAnimacy=Inan|Case=Loc|Gender=Fem|Number=Sing\t13\tnmod\t_\t_\n",
            "11\tбольшие\tБОЛЬШОЙ\tADJ\tJJS\tAnimacy=Inan|Case=Nom|Degree=Sup|Number=Plur\t10\tamod\t_\t_\n",
            "12\tЗлые\tЗлые\tADJ\tJJL\tAnimacy=Inan|Case=Nom|Number=Plur\t10\tamod\t_\t_\n",
            "13\tкрокодилы\tкрокодИЛА\tNOUN\tNN\tAnimacy=Inan|Case=Nom|Gender=Masc|Number=Plur\t2\tappos\t_\tSpacesAfter=\\n\n",
            "\n",
            "\n"
          ]
        }
      ]
    },
    {
      "cell_type": "code",
      "source": [
        "! pip3 install graphviz\n",
        "! pip3 install pydot"
      ],
      "metadata": {
        "colab": {
          "base_uri": "https://localhost:8080/"
        },
        "id": "x8aK8e5-V7P6",
        "outputId": "a56c3ad9-c07b-4818-99e7-4af8b63020c6"
      },
      "execution_count": 8,
      "outputs": [
        {
          "output_type": "stream",
          "name": "stdout",
          "text": [
            "Requirement already satisfied: graphviz in /usr/local/lib/python3.7/dist-packages (0.10.1)\n",
            "Requirement already satisfied: pydot in /usr/local/lib/python3.7/dist-packages (1.3.0)\n",
            "Requirement already satisfied: pyparsing>=2.1.4 in /usr/local/lib/python3.7/dist-packages (from pydot) (3.0.7)\n"
          ]
        }
      ]
    },
    {
      "cell_type": "code",
      "source": [
        "from nltk import DependencyGraph, Tree "
      ],
      "metadata": {
        "id": "o5Y7d67xWAn-"
      },
      "execution_count": 94,
      "outputs": []
    },
    {
      "cell_type": "code",
      "source": [
        "def conllu_to_list(parser_result): \n",
        "# аргумент - это conllu-файл, который получили в результате синтаксического анализа \n",
        "    sents = []\n",
        "    for sent in parser_result.split('\\n\\n'):\n",
        "        # print(\"1 ----------\")\n",
        "        # print(sent)\n",
        "        # убираем коменты\n",
        "        sent = '\\n'.join([line for line in sent.split('\\n') if not line.startswith('#')])\n",
        "        # print(\"2 ----------\")\n",
        "        # заменяем регистр для root\n",
        "        sent = sent.replace('\\troot\\t', '\\tROOT\\t')\n",
        "        # print(sent)\n",
        "        sents.append(sent)\n",
        "    return sents\n"
      ],
      "metadata": {
        "id": "hrn9JjEbWW06"
      },
      "execution_count": 95,
      "outputs": []
    },
    {
      "cell_type": "code",
      "source": [
        "ud = conllu_to_list(parsed) # превратили в лист\n",
        "# print(ud[0])\n"
      ],
      "metadata": {
        "id": "36fBNep7WYL-"
      },
      "execution_count": 96,
      "outputs": []
    },
    {
      "cell_type": "code",
      "source": [
        "ud_graph = DependencyGraph(tree_str=ud[0])\n",
        "ud_graph"
      ],
      "metadata": {
        "colab": {
          "base_uri": "https://localhost:8080/",
          "height": 544
        },
        "id": "ue5vRJjsWElP",
        "outputId": "703de060-c1aa-4bc0-969f-03506e0435a5"
      },
      "execution_count": 97,
      "outputs": [
        {
          "output_type": "execute_result",
          "data": {
            "text/plain": [
              "<DependencyGraph with 14 nodes>"
            ],
            "image/svg+xml": "<?xml version=\"1.0\" encoding=\"UTF-8\" standalone=\"no\"?>\n<!DOCTYPE svg PUBLIC \"-//W3C//DTD SVG 1.1//EN\"\n \"http://www.w3.org/Graphics/SVG/1.1/DTD/svg11.dtd\">\n<!-- Generated by graphviz version 2.40.1 (20161225.0304)\n -->\n<!-- Title: G Pages: 1 -->\n<svg width=\"496pt\" height=\"392pt\"\n viewBox=\"0.00 0.00 496.00 392.00\" xmlns=\"http://www.w3.org/2000/svg\" xmlns:xlink=\"http://www.w3.org/1999/xlink\">\n<g id=\"graph0\" class=\"graph\" transform=\"scale(1 1) rotate(0) translate(4 388)\">\n<title>G</title>\n<polygon fill=\"#ffffff\" stroke=\"transparent\" points=\"-4,4 -4,-388 492,-388 492,4 -4,4\"/>\n<!-- 0 -->\n<g id=\"node1\" class=\"node\">\n<title>0</title>\n<text text-anchor=\"middle\" x=\"208\" y=\"-362.3\" font-family=\"Times,serif\" font-size=\"14.00\" fill=\"#000000\">0 (None)</text>\n</g>\n<!-- 2 -->\n<g id=\"node2\" class=\"node\">\n<title>2</title>\n<text text-anchor=\"middle\" x=\"208\" y=\"-275.3\" font-family=\"Times,serif\" font-size=\"14.00\" fill=\"#000000\">2 (Африке)</text>\n</g>\n<!-- 0&#45;&gt;2 -->\n<g id=\"edge1\" class=\"edge\">\n<title>0&#45;&gt;2</title>\n<path fill=\"none\" stroke=\"#000000\" d=\"M208,-347.9735C208,-336.1918 208,-320.5607 208,-307.1581\"/>\n<polygon fill=\"#000000\" stroke=\"#000000\" points=\"211.5001,-307.0033 208,-297.0034 204.5001,-307.0034 211.5001,-307.0033\"/>\n<text text-anchor=\"middle\" x=\"228\" y=\"-318.8\" font-family=\"Times,serif\" font-size=\"14.00\" fill=\"#000000\">ROOT</text>\n</g>\n<!-- 1 -->\n<g id=\"node3\" class=\"node\">\n<title>1</title>\n<text text-anchor=\"middle\" x=\"27\" y=\"-188.3\" font-family=\"Times,serif\" font-size=\"14.00\" fill=\"#000000\">1 (В)</text>\n</g>\n<!-- 2&#45;&gt;1 -->\n<g id=\"edge2\" class=\"edge\">\n<title>2&#45;&gt;1</title>\n<path fill=\"none\" stroke=\"#000000\" d=\"M166.367,-261.6246C153.0606,-255.8897 138.3294,-249.3493 125,-243 104.2617,-233.1215 81.4784,-221.3236 63.1025,-211.5645\"/>\n<polygon fill=\"#000000\" stroke=\"#000000\" points=\"64.6674,-208.4324 54.1973,-206.8117 61.3715,-214.6079 64.6674,-208.4324\"/>\n<text text-anchor=\"middle\" x=\"137\" y=\"-231.8\" font-family=\"Times,serif\" font-size=\"14.00\" fill=\"#000000\">case</text>\n</g>\n<!-- 3 -->\n<g id=\"node4\" class=\"node\">\n<title>3</title>\n<text text-anchor=\"middle\" x=\"109\" y=\"-188.3\" font-family=\"Times,serif\" font-size=\"14.00\" fill=\"#000000\">3 (акулы)</text>\n</g>\n<!-- 2&#45;&gt;3 -->\n<g id=\"edge3\" class=\"edge\">\n<title>2&#45;&gt;3</title>\n<path fill=\"none\" stroke=\"#000000\" d=\"M187.4871,-260.9735C172.8856,-248.1419 153.0884,-230.7443 137.0302,-216.6326\"/>\n<polygon fill=\"#000000\" stroke=\"#000000\" points=\"139.3087,-213.9755 129.4866,-210.0034 134.6878,-219.2336 139.3087,-213.9755\"/>\n<text text-anchor=\"middle\" x=\"182\" y=\"-231.8\" font-family=\"Times,serif\" font-size=\"14.00\" fill=\"#000000\">appos</text>\n</g>\n<!-- 7 -->\n<g id=\"node5\" class=\"node\">\n<title>7</title>\n<text text-anchor=\"middle\" x=\"208\" y=\"-188.3\" font-family=\"Times,serif\" font-size=\"14.00\" fill=\"#000000\">7 (гориллы)</text>\n</g>\n<!-- 2&#45;&gt;7 -->\n<g id=\"edge4\" class=\"edge\">\n<title>2&#45;&gt;7</title>\n<path fill=\"none\" stroke=\"#000000\" d=\"M208,-260.9735C208,-249.1918 208,-233.5607 208,-220.1581\"/>\n<polygon fill=\"#000000\" stroke=\"#000000\" points=\"211.5001,-220.0033 208,-210.0034 204.5001,-220.0034 211.5001,-220.0033\"/>\n<text text-anchor=\"middle\" x=\"225\" y=\"-231.8\" font-family=\"Times,serif\" font-size=\"14.00\" fill=\"#000000\">appos</text>\n</g>\n<!-- 13 -->\n<g id=\"node6\" class=\"node\">\n<title>13</title>\n<text text-anchor=\"middle\" x=\"326\" y=\"-188.3\" font-family=\"Times,serif\" font-size=\"14.00\" fill=\"#000000\">13 (крокодилы)</text>\n</g>\n<!-- 2&#45;&gt;13 -->\n<g id=\"edge5\" class=\"edge\">\n<title>2&#45;&gt;13</title>\n<path fill=\"none\" stroke=\"#000000\" d=\"M232.4497,-260.9735C250.0908,-247.9669 274.0949,-230.269 293.3708,-216.0571\"/>\n<polygon fill=\"#000000\" stroke=\"#000000\" points=\"295.6098,-218.7548 301.5816,-210.0034 291.4558,-213.1206 295.6098,-218.7548\"/>\n<text text-anchor=\"middle\" x=\"292\" y=\"-231.8\" font-family=\"Times,serif\" font-size=\"14.00\" fill=\"#000000\">appos</text>\n</g>\n<!-- 8 -->\n<g id=\"node7\" class=\"node\">\n<title>8</title>\n<text text-anchor=\"middle\" x=\"426\" y=\"-188.3\" font-family=\"Times,serif\" font-size=\"14.00\" fill=\"#000000\">8 (,)</text>\n</g>\n<!-- 2&#45;&gt;8 -->\n<g id=\"edge6\" class=\"edge\">\n<title>2&#45;&gt;8</title>\n<path fill=\"none\" stroke=\"#000000\" d=\"M249.6492,-265.5153C269.0299,-259.0378 292.319,-250.9642 313,-243 345.0308,-230.665 354.7383,-226.3409 389.5389,-210.1259\"/>\n<polygon fill=\"#000000\" stroke=\"#000000\" points=\"391.3717,-213.1331 398.9559,-205.7351 388.4136,-206.7888 391.3717,-213.1331\"/>\n<text text-anchor=\"middle\" x=\"366.5\" y=\"-231.8\" font-family=\"Times,serif\" font-size=\"14.00\" fill=\"#000000\">punct</text>\n</g>\n<!-- 4 -->\n<g id=\"node8\" class=\"node\">\n<title>4</title>\n<text text-anchor=\"middle\" x=\"109\" y=\"-101.3\" font-family=\"Times,serif\" font-size=\"14.00\" fill=\"#000000\">4 (,)</text>\n</g>\n<!-- 3&#45;&gt;4 -->\n<g id=\"edge7\" class=\"edge\">\n<title>3&#45;&gt;4</title>\n<path fill=\"none\" stroke=\"#000000\" d=\"M109,-173.9735C109,-162.1918 109,-146.5607 109,-133.1581\"/>\n<polygon fill=\"#000000\" stroke=\"#000000\" points=\"112.5001,-133.0033 109,-123.0034 105.5001,-133.0034 112.5001,-133.0033\"/>\n<text text-anchor=\"middle\" x=\"125.5\" y=\"-144.8\" font-family=\"Times,serif\" font-size=\"14.00\" fill=\"#000000\">punct</text>\n</g>\n<!-- 6 -->\n<g id=\"node10\" class=\"node\">\n<title>6</title>\n<text text-anchor=\"middle\" x=\"202\" y=\"-101.3\" font-family=\"Times,serif\" font-size=\"14.00\" fill=\"#000000\">6 (Африке)</text>\n</g>\n<!-- 7&#45;&gt;6 -->\n<g id=\"edge9\" class=\"edge\">\n<title>7&#45;&gt;6</title>\n<path fill=\"none\" stroke=\"#000000\" d=\"M206.7568,-173.9735C205.9443,-162.1918 204.8663,-146.5607 203.9419,-133.1581\"/>\n<polygon fill=\"#000000\" stroke=\"#000000\" points=\"207.4214,-132.7388 203.2416,-123.0034 200.438,-133.2205 207.4214,-132.7388\"/>\n<text text-anchor=\"middle\" x=\"223\" y=\"-144.8\" font-family=\"Times,serif\" font-size=\"14.00\" fill=\"#000000\">nmod</text>\n</g>\n<!-- 10 -->\n<g id=\"node12\" class=\"node\">\n<title>10</title>\n<text text-anchor=\"middle\" x=\"342\" y=\"-101.3\" font-family=\"Times,serif\" font-size=\"14.00\" fill=\"#000000\">10 (Африке)</text>\n</g>\n<!-- 13&#45;&gt;10 -->\n<g id=\"edge13\" class=\"edge\">\n<title>13&#45;&gt;10</title>\n<path fill=\"none\" stroke=\"#000000\" d=\"M329.3152,-173.9735C331.482,-162.1918 334.3567,-146.5607 336.8215,-133.1581\"/>\n<polygon fill=\"#000000\" stroke=\"#000000\" points=\"340.3225,-133.4715 338.689,-123.0034 333.4379,-132.2053 340.3225,-133.4715\"/>\n<text text-anchor=\"middle\" x=\"352\" y=\"-144.8\" font-family=\"Times,serif\" font-size=\"14.00\" fill=\"#000000\">nmod</text>\n</g>\n<!-- 5 -->\n<g id=\"node9\" class=\"node\">\n<title>5</title>\n<text text-anchor=\"middle\" x=\"181\" y=\"-14.3\" font-family=\"Times,serif\" font-size=\"14.00\" fill=\"#000000\">5 (В)</text>\n</g>\n<!-- 6&#45;&gt;5 -->\n<g id=\"edge8\" class=\"edge\">\n<title>6&#45;&gt;5</title>\n<path fill=\"none\" stroke=\"#000000\" d=\"M197.6488,-86.9735C194.7768,-75.0751 190.9571,-59.2508 187.7008,-45.7606\"/>\n<polygon fill=\"#000000\" stroke=\"#000000\" points=\"191.0944,-44.9029 185.3456,-36.0034 184.2898,-46.5455 191.0944,-44.9029\"/>\n<text text-anchor=\"middle\" x=\"205\" y=\"-57.8\" font-family=\"Times,serif\" font-size=\"14.00\" fill=\"#000000\">case</text>\n</g>\n<!-- 9 -->\n<g id=\"node11\" class=\"node\">\n<title>9</title>\n<text text-anchor=\"middle\" x=\"253\" y=\"-14.3\" font-family=\"Times,serif\" font-size=\"14.00\" fill=\"#000000\">9 (В)</text>\n</g>\n<!-- 10&#45;&gt;9 -->\n<g id=\"edge10\" class=\"edge\">\n<title>10&#45;&gt;9</title>\n<path fill=\"none\" stroke=\"#000000\" d=\"M323.5591,-86.9735C310.5519,-74.2586 292.9582,-57.0603 278.5934,-43.0183\"/>\n<polygon fill=\"#000000\" stroke=\"#000000\" points=\"281.0148,-40.4908 271.4172,-36.0034 276.1216,-45.4965 281.0148,-40.4908\"/>\n<text text-anchor=\"middle\" x=\"315\" y=\"-57.8\" font-family=\"Times,serif\" font-size=\"14.00\" fill=\"#000000\">case</text>\n</g>\n<!-- 11 -->\n<g id=\"node13\" class=\"node\">\n<title>11</title>\n<text text-anchor=\"middle\" x=\"347\" y=\"-14.3\" font-family=\"Times,serif\" font-size=\"14.00\" fill=\"#000000\">11 (большие)</text>\n</g>\n<!-- 10&#45;&gt;11 -->\n<g id=\"edge11\" class=\"edge\">\n<title>10&#45;&gt;11</title>\n<path fill=\"none\" stroke=\"#000000\" d=\"M343.036,-86.9735C343.7131,-75.1918 344.6115,-59.5607 345.3817,-46.1581\"/>\n<polygon fill=\"#000000\" stroke=\"#000000\" points=\"348.8857,-46.1877 345.9653,-36.0034 341.8972,-45.786 348.8857,-46.1877\"/>\n<text text-anchor=\"middle\" x=\"361.5\" y=\"-57.8\" font-family=\"Times,serif\" font-size=\"14.00\" fill=\"#000000\">amod</text>\n</g>\n<!-- 12 -->\n<g id=\"node14\" class=\"node\">\n<title>12</title>\n<text text-anchor=\"middle\" x=\"451\" y=\"-14.3\" font-family=\"Times,serif\" font-size=\"14.00\" fill=\"#000000\">12 (Злые)</text>\n</g>\n<!-- 10&#45;&gt;12 -->\n<g id=\"edge12\" class=\"edge\">\n<title>10&#45;&gt;12</title>\n<path fill=\"none\" stroke=\"#000000\" d=\"M364.5849,-86.9735C380.8074,-74.0253 402.855,-56.4276 420.6196,-42.2485\"/>\n<polygon fill=\"#000000\" stroke=\"#000000\" points=\"422.8117,-44.9771 428.4441,-36.0034 418.445,-39.5061 422.8117,-44.9771\"/>\n<text text-anchor=\"middle\" x=\"420.5\" y=\"-57.8\" font-family=\"Times,serif\" font-size=\"14.00\" fill=\"#000000\">amod</text>\n</g>\n</g>\n</svg>\n"
          },
          "metadata": {},
          "execution_count": 97
        }
      ]
    },
    {
      "cell_type": "code",
      "source": [
        "ud_tree = ud_graph.tree()\n",
        "print(ud_tree.pretty_print())"
      ],
      "metadata": {
        "colab": {
          "base_uri": "https://localhost:8080/"
        },
        "id": "0FKbOT3TWRRY",
        "outputId": "411a539d-283a-4c7b-bb25-aeb95db268bd"
      },
      "execution_count": 98,
      "outputs": [
        {
          "output_type": "stream",
          "name": "stdout",
          "text": [
            "               Африке                   \n",
            "  _______________|____________           \n",
            " |   |    |   гориллы     крокодилы     \n",
            " |   |    |      |            |          \n",
            " |   |  акулы  Африке       Африке      \n",
            " |   |    |      |      ______|______    \n",
            " В   ,    ,      В     В   большие  Злые\n",
            "\n",
            "None\n"
          ]
        }
      ]
    },
    {
      "cell_type": "code",
      "source": [
        "sent2 = 'В Африке акулы, В Африке гориллы, В Африке большие Злые крокодилы Будут вас кусать, Бить и обижать,- Не ходите, дети, В Африку гулять.'\n",
        "print(sent2)"
      ],
      "metadata": {
        "colab": {
          "base_uri": "https://localhost:8080/"
        },
        "id": "CBxLaWoUYVEY",
        "outputId": "71da6571-0b8d-4c55-a0da-85366065b460"
      },
      "execution_count": 100,
      "outputs": [
        {
          "output_type": "stream",
          "name": "stdout",
          "text": [
            "В Африке акулы, В Африке гориллы, В Африке большие Злые крокодилы Будут вас кусать, Бить и обижать,- Не ходите, дети, В Африку гулять.\n"
          ]
        }
      ]
    },
    {
      "cell_type": "code",
      "source": [
        "parsed2 = pipeline.process(sent2)\n",
        "# print(parsed2)"
      ],
      "metadata": {
        "id": "DH9CxB75c-PW"
      },
      "execution_count": 101,
      "outputs": []
    },
    {
      "cell_type": "code",
      "source": [
        "ud2 = conllu_to_list(parsed2) # превратили в лист\n",
        "# print(ud2)"
      ],
      "metadata": {
        "id": "C-KFWxvNdh3A"
      },
      "execution_count": 102,
      "outputs": []
    },
    {
      "cell_type": "code",
      "source": [
        "ud_graph2 = DependencyGraph(tree_str=ud2[0])\n",
        "ud_graph2"
      ],
      "metadata": {
        "colab": {
          "base_uri": "https://localhost:8080/",
          "height": 660
        },
        "id": "akms7-aLdnrq",
        "outputId": "4bfcbb8f-4c42-4b22-84c8-0bb3ad948807"
      },
      "execution_count": 103,
      "outputs": [
        {
          "output_type": "execute_result",
          "data": {
            "text/plain": [
              "<DependencyGraph with 32 nodes>"
            ],
            "image/svg+xml": "<?xml version=\"1.0\" encoding=\"UTF-8\" standalone=\"no\"?>\n<!DOCTYPE svg PUBLIC \"-//W3C//DTD SVG 1.1//EN\"\n \"http://www.w3.org/Graphics/SVG/1.1/DTD/svg11.dtd\">\n<!-- Generated by graphviz version 2.40.1 (20161225.0304)\n -->\n<!-- Title: G Pages: 1 -->\n<svg width=\"1130pt\" height=\"479pt\"\n viewBox=\"0.00 0.00 1130.00 479.00\" xmlns=\"http://www.w3.org/2000/svg\" xmlns:xlink=\"http://www.w3.org/1999/xlink\">\n<g id=\"graph0\" class=\"graph\" transform=\"scale(1 1) rotate(0) translate(4 475)\">\n<title>G</title>\n<polygon fill=\"#ffffff\" stroke=\"transparent\" points=\"-4,4 -4,-475 1126,-475 1126,4 -4,4\"/>\n<!-- 0 -->\n<g id=\"node1\" class=\"node\">\n<title>0</title>\n<text text-anchor=\"middle\" x=\"665\" y=\"-449.3\" font-family=\"Times,serif\" font-size=\"14.00\" fill=\"#000000\">0 (None)</text>\n</g>\n<!-- 14 -->\n<g id=\"node2\" class=\"node\">\n<title>14</title>\n<text text-anchor=\"middle\" x=\"665\" y=\"-362.3\" font-family=\"Times,serif\" font-size=\"14.00\" fill=\"#000000\">14 (Будут)</text>\n</g>\n<!-- 0&#45;&gt;14 -->\n<g id=\"edge1\" class=\"edge\">\n<title>0&#45;&gt;14</title>\n<path fill=\"none\" stroke=\"#000000\" d=\"M665,-434.9735C665,-423.1918 665,-407.5607 665,-394.1581\"/>\n<polygon fill=\"#000000\" stroke=\"#000000\" points=\"668.5001,-394.0033 665,-384.0034 661.5001,-394.0034 668.5001,-394.0033\"/>\n<text text-anchor=\"middle\" x=\"685\" y=\"-405.8\" font-family=\"Times,serif\" font-size=\"14.00\" fill=\"#000000\">ROOT</text>\n</g>\n<!-- 2 -->\n<g id=\"node4\" class=\"node\">\n<title>2</title>\n<text text-anchor=\"middle\" x=\"208\" y=\"-275.3\" font-family=\"Times,serif\" font-size=\"14.00\" fill=\"#000000\">2 (Африке)</text>\n</g>\n<!-- 14&#45;&gt;2 -->\n<g id=\"edge12\" class=\"edge\">\n<title>14&#45;&gt;2</title>\n<path fill=\"none\" stroke=\"#000000\" d=\"M624.8448,-358.3556C541.8153,-342.5491 351.3453,-306.2889 259.4521,-288.795\"/>\n<polygon fill=\"#000000\" stroke=\"#000000\" points=\"260.0222,-285.3408 249.5441,-286.9088 258.7131,-292.2173 260.0222,-285.3408\"/>\n<text text-anchor=\"middle\" x=\"473.5\" y=\"-318.8\" font-family=\"Times,serif\" font-size=\"14.00\" fill=\"#000000\">obl</text>\n</g>\n<!-- 10 -->\n<g id=\"node12\" class=\"node\">\n<title>10</title>\n<text text-anchor=\"middle\" x=\"472\" y=\"-275.3\" font-family=\"Times,serif\" font-size=\"14.00\" fill=\"#000000\">10 (Африке)</text>\n</g>\n<!-- 14&#45;&gt;10 -->\n<g id=\"edge13\" class=\"edge\">\n<title>14&#45;&gt;10</title>\n<path fill=\"none\" stroke=\"#000000\" d=\"M625.0103,-347.9735C594.8627,-334.3837 553.3535,-315.6723 521.1751,-301.167\"/>\n<polygon fill=\"#000000\" stroke=\"#000000\" points=\"522.4934,-297.9222 511.9385,-297.0034 519.6167,-304.3038 522.4934,-297.9222\"/>\n<text text-anchor=\"middle\" x=\"590.5\" y=\"-318.8\" font-family=\"Times,serif\" font-size=\"14.00\" fill=\"#000000\">obl</text>\n</g>\n<!-- 13 -->\n<g id=\"node15\" class=\"node\">\n<title>13</title>\n<text text-anchor=\"middle\" x=\"608\" y=\"-275.3\" font-family=\"Times,serif\" font-size=\"14.00\" fill=\"#000000\">13 (крокодилы)</text>\n</g>\n<!-- 14&#45;&gt;13 -->\n<g id=\"edge14\" class=\"edge\">\n<title>14&#45;&gt;13</title>\n<path fill=\"none\" stroke=\"#000000\" d=\"M652.1155,-347.7986C648.1717,-342.1339 643.8579,-335.8415 640,-330 634.8102,-322.1418 629.3099,-313.4981 624.3605,-305.5951\"/>\n<polygon fill=\"#000000\" stroke=\"#000000\" points=\"627.3087,-303.7081 619.0525,-297.0683 621.3661,-307.4075 627.3087,-303.7081\"/>\n<text text-anchor=\"middle\" x=\"656\" y=\"-318.8\" font-family=\"Times,serif\" font-size=\"14.00\" fill=\"#000000\">nsubj</text>\n</g>\n<!-- 16 -->\n<g id=\"node16\" class=\"node\">\n<title>16</title>\n<text text-anchor=\"middle\" x=\"723\" y=\"-275.3\" font-family=\"Times,serif\" font-size=\"14.00\" fill=\"#000000\">16 (кусать)</text>\n</g>\n<!-- 14&#45;&gt;16 -->\n<g id=\"edge15\" class=\"edge\">\n<title>14&#45;&gt;16</title>\n<path fill=\"none\" stroke=\"#000000\" d=\"M677.0176,-347.9735C685.1832,-335.7252 696.1223,-319.3165 705.2823,-305.5766\"/>\n<polygon fill=\"#000000\" stroke=\"#000000\" points=\"708.3629,-307.2653 710.9978,-297.0034 702.5385,-303.3824 708.3629,-307.2653\"/>\n<text text-anchor=\"middle\" x=\"718\" y=\"-318.8\" font-family=\"Times,serif\" font-size=\"14.00\" fill=\"#000000\">xcomp</text>\n</g>\n<!-- 24 -->\n<g id=\"node17\" class=\"node\">\n<title>24</title>\n<text text-anchor=\"middle\" x=\"836\" y=\"-275.3\" font-family=\"Times,serif\" font-size=\"14.00\" fill=\"#000000\">24 (ходите)</text>\n</g>\n<!-- 14&#45;&gt;24 -->\n<g id=\"edge16\" class=\"edge\">\n<title>14&#45;&gt;24</title>\n<path fill=\"none\" stroke=\"#000000\" d=\"M704.7863,-347.9506C716.8151,-342.3457 730.0104,-336.0485 742,-330 759.4833,-321.1801 778.5157,-310.9712 794.8534,-302.0147\"/>\n<polygon fill=\"#000000\" stroke=\"#000000\" points=\"796.5539,-305.0739 803.6256,-297.1846 793.1776,-298.942 796.5539,-305.0739\"/>\n<text text-anchor=\"middle\" x=\"779\" y=\"-318.8\" font-family=\"Times,serif\" font-size=\"14.00\" fill=\"#000000\">acl</text>\n</g>\n<!-- 31 -->\n<g id=\"node18\" class=\"node\">\n<title>31</title>\n<text text-anchor=\"middle\" x=\"924\" y=\"-275.3\" font-family=\"Times,serif\" font-size=\"14.00\" fill=\"#000000\">31 (.)</text>\n</g>\n<!-- 14&#45;&gt;31 -->\n<g id=\"edge17\" class=\"edge\">\n<title>14&#45;&gt;31</title>\n<path fill=\"none\" stroke=\"#000000\" d=\"M705.0641,-355.9011C750.1194,-344.0069 825.0822,-322.592 887,-297 887.099,-296.9591 887.1982,-296.918 887.2974,-296.8768\"/>\n<polygon fill=\"#000000\" stroke=\"#000000\" points=\"888.9461,-299.9753 896.6903,-292.745 886.1275,-293.5678 888.9461,-299.9753\"/>\n<text text-anchor=\"middle\" x=\"856.5\" y=\"-318.8\" font-family=\"Times,serif\" font-size=\"14.00\" fill=\"#000000\">punct</text>\n</g>\n<!-- 1 -->\n<g id=\"node3\" class=\"node\">\n<title>1</title>\n<text text-anchor=\"middle\" x=\"27\" y=\"-188.3\" font-family=\"Times,serif\" font-size=\"14.00\" fill=\"#000000\">1 (В)</text>\n</g>\n<!-- 2&#45;&gt;1 -->\n<g id=\"edge2\" class=\"edge\">\n<title>2&#45;&gt;1</title>\n<path fill=\"none\" stroke=\"#000000\" d=\"M166.367,-261.6246C153.0606,-255.8897 138.3294,-249.3493 125,-243 104.2617,-233.1215 81.4784,-221.3236 63.1025,-211.5645\"/>\n<polygon fill=\"#000000\" stroke=\"#000000\" points=\"64.6674,-208.4324 54.1973,-206.8117 61.3715,-214.6079 64.6674,-208.4324\"/>\n<text text-anchor=\"middle\" x=\"137\" y=\"-231.8\" font-family=\"Times,serif\" font-size=\"14.00\" fill=\"#000000\">case</text>\n</g>\n<!-- 3 -->\n<g id=\"node5\" class=\"node\">\n<title>3</title>\n<text text-anchor=\"middle\" x=\"109\" y=\"-188.3\" font-family=\"Times,serif\" font-size=\"14.00\" fill=\"#000000\">3 (акулы)</text>\n</g>\n<!-- 2&#45;&gt;3 -->\n<g id=\"edge3\" class=\"edge\">\n<title>2&#45;&gt;3</title>\n<path fill=\"none\" stroke=\"#000000\" d=\"M187.4871,-260.9735C172.8856,-248.1419 153.0884,-230.7443 137.0302,-216.6326\"/>\n<polygon fill=\"#000000\" stroke=\"#000000\" points=\"139.3087,-213.9755 129.4866,-210.0034 134.6878,-219.2336 139.3087,-213.9755\"/>\n<text text-anchor=\"middle\" x=\"182\" y=\"-231.8\" font-family=\"Times,serif\" font-size=\"14.00\" fill=\"#000000\">appos</text>\n</g>\n<!-- 7 -->\n<g id=\"node6\" class=\"node\">\n<title>7</title>\n<text text-anchor=\"middle\" x=\"208\" y=\"-188.3\" font-family=\"Times,serif\" font-size=\"14.00\" fill=\"#000000\">7 (гориллы)</text>\n</g>\n<!-- 2&#45;&gt;7 -->\n<g id=\"edge4\" class=\"edge\">\n<title>2&#45;&gt;7</title>\n<path fill=\"none\" stroke=\"#000000\" d=\"M208,-260.9735C208,-249.1918 208,-233.5607 208,-220.1581\"/>\n<polygon fill=\"#000000\" stroke=\"#000000\" points=\"211.5001,-220.0033 208,-210.0034 204.5001,-220.0034 211.5001,-220.0033\"/>\n<text text-anchor=\"middle\" x=\"225\" y=\"-231.8\" font-family=\"Times,serif\" font-size=\"14.00\" fill=\"#000000\">appos</text>\n</g>\n<!-- 8 -->\n<g id=\"node7\" class=\"node\">\n<title>8</title>\n<text text-anchor=\"middle\" x=\"298\" y=\"-188.3\" font-family=\"Times,serif\" font-size=\"14.00\" fill=\"#000000\">8 (,)</text>\n</g>\n<!-- 2&#45;&gt;8 -->\n<g id=\"edge5\" class=\"edge\">\n<title>2&#45;&gt;8</title>\n<path fill=\"none\" stroke=\"#000000\" d=\"M227.3931,-260.7503C233.3799,-255.0836 239.9806,-248.8023 246,-243 254.6432,-234.6686 264.0273,-225.5026 272.414,-217.2668\"/>\n<polygon fill=\"#000000\" stroke=\"#000000\" points=\"275.1111,-219.5232 279.7859,-210.0155 270.2023,-214.5328 275.1111,-219.5232\"/>\n<text text-anchor=\"middle\" x=\"277.5\" y=\"-231.8\" font-family=\"Times,serif\" font-size=\"14.00\" fill=\"#000000\">punct</text>\n</g>\n<!-- 4 -->\n<g id=\"node8\" class=\"node\">\n<title>4</title>\n<text text-anchor=\"middle\" x=\"109\" y=\"-101.3\" font-family=\"Times,serif\" font-size=\"14.00\" fill=\"#000000\">4 (,)</text>\n</g>\n<!-- 3&#45;&gt;4 -->\n<g id=\"edge6\" class=\"edge\">\n<title>3&#45;&gt;4</title>\n<path fill=\"none\" stroke=\"#000000\" d=\"M109,-173.9735C109,-162.1918 109,-146.5607 109,-133.1581\"/>\n<polygon fill=\"#000000\" stroke=\"#000000\" points=\"112.5001,-133.0033 109,-123.0034 105.5001,-133.0034 112.5001,-133.0033\"/>\n<text text-anchor=\"middle\" x=\"125.5\" y=\"-144.8\" font-family=\"Times,serif\" font-size=\"14.00\" fill=\"#000000\">punct</text>\n</g>\n<!-- 6 -->\n<g id=\"node10\" class=\"node\">\n<title>6</title>\n<text text-anchor=\"middle\" x=\"208\" y=\"-101.3\" font-family=\"Times,serif\" font-size=\"14.00\" fill=\"#000000\">6 (Африке)</text>\n</g>\n<!-- 7&#45;&gt;6 -->\n<g id=\"edge8\" class=\"edge\">\n<title>7&#45;&gt;6</title>\n<path fill=\"none\" stroke=\"#000000\" d=\"M208,-173.9735C208,-162.1918 208,-146.5607 208,-133.1581\"/>\n<polygon fill=\"#000000\" stroke=\"#000000\" points=\"211.5001,-133.0033 208,-123.0034 204.5001,-133.0034 211.5001,-133.0033\"/>\n<text text-anchor=\"middle\" x=\"225\" y=\"-144.8\" font-family=\"Times,serif\" font-size=\"14.00\" fill=\"#000000\">nmod</text>\n</g>\n<!-- 5 -->\n<g id=\"node9\" class=\"node\">\n<title>5</title>\n<text text-anchor=\"middle\" x=\"208\" y=\"-14.3\" font-family=\"Times,serif\" font-size=\"14.00\" fill=\"#000000\">5 (В)</text>\n</g>\n<!-- 6&#45;&gt;5 -->\n<g id=\"edge7\" class=\"edge\">\n<title>6&#45;&gt;5</title>\n<path fill=\"none\" stroke=\"#000000\" d=\"M208,-86.9735C208,-75.1918 208,-59.5607 208,-46.1581\"/>\n<polygon fill=\"#000000\" stroke=\"#000000\" points=\"211.5001,-46.0033 208,-36.0034 204.5001,-46.0034 211.5001,-46.0033\"/>\n<text text-anchor=\"middle\" x=\"220\" y=\"-57.8\" font-family=\"Times,serif\" font-size=\"14.00\" fill=\"#000000\">case</text>\n</g>\n<!-- 9 -->\n<g id=\"node11\" class=\"node\">\n<title>9</title>\n<text text-anchor=\"middle\" x=\"370\" y=\"-188.3\" font-family=\"Times,serif\" font-size=\"14.00\" fill=\"#000000\">9 (В)</text>\n</g>\n<!-- 10&#45;&gt;9 -->\n<g id=\"edge9\" class=\"edge\">\n<title>10&#45;&gt;9</title>\n<path fill=\"none\" stroke=\"#000000\" d=\"M450.8655,-260.9735C435.8216,-248.1419 415.4244,-230.7443 398.8796,-216.6326\"/>\n<polygon fill=\"#000000\" stroke=\"#000000\" points=\"400.9871,-213.8299 391.1074,-210.0034 396.4444,-219.1558 400.9871,-213.8299\"/>\n<text text-anchor=\"middle\" x=\"440\" y=\"-231.8\" font-family=\"Times,serif\" font-size=\"14.00\" fill=\"#000000\">case</text>\n</g>\n<!-- 11 -->\n<g id=\"node13\" class=\"node\">\n<title>11</title>\n<text text-anchor=\"middle\" x=\"464\" y=\"-188.3\" font-family=\"Times,serif\" font-size=\"14.00\" fill=\"#000000\">11 (большие)</text>\n</g>\n<!-- 10&#45;&gt;11 -->\n<g id=\"edge10\" class=\"edge\">\n<title>10&#45;&gt;11</title>\n<path fill=\"none\" stroke=\"#000000\" d=\"M470.3424,-260.9735C469.259,-249.1918 467.8217,-233.5607 466.5892,-220.1581\"/>\n<polygon fill=\"#000000\" stroke=\"#000000\" points=\"470.0565,-219.6408 465.6555,-210.0034 463.086,-220.2819 470.0565,-219.6408\"/>\n<text text-anchor=\"middle\" x=\"485.5\" y=\"-231.8\" font-family=\"Times,serif\" font-size=\"14.00\" fill=\"#000000\">amod</text>\n</g>\n<!-- 12 -->\n<g id=\"node14\" class=\"node\">\n<title>12</title>\n<text text-anchor=\"middle\" x=\"568\" y=\"-188.3\" font-family=\"Times,serif\" font-size=\"14.00\" fill=\"#000000\">12 (Злые)</text>\n</g>\n<!-- 10&#45;&gt;12 -->\n<g id=\"edge11\" class=\"edge\">\n<title>10&#45;&gt;12</title>\n<path fill=\"none\" stroke=\"#000000\" d=\"M491.8913,-260.9735C505.9216,-248.2586 524.899,-231.0603 540.3936,-217.0183\"/>\n<polygon fill=\"#000000\" stroke=\"#000000\" points=\"543.0747,-219.3121 548.1342,-210.0034 538.374,-214.1251 543.0747,-219.3121\"/>\n<text text-anchor=\"middle\" x=\"542.5\" y=\"-231.8\" font-family=\"Times,serif\" font-size=\"14.00\" fill=\"#000000\">amod</text>\n</g>\n<!-- 15 -->\n<g id=\"node19\" class=\"node\">\n<title>15</title>\n<text text-anchor=\"middle\" x=\"655\" y=\"-188.3\" font-family=\"Times,serif\" font-size=\"14.00\" fill=\"#000000\">15 (вас)</text>\n</g>\n<!-- 16&#45;&gt;15 -->\n<g id=\"edge18\" class=\"edge\">\n<title>16&#45;&gt;15</title>\n<path fill=\"none\" stroke=\"#000000\" d=\"M708.9104,-260.9735C699.2457,-248.6085 686.2672,-232.0036 675.4662,-218.1847\"/>\n<polygon fill=\"#000000\" stroke=\"#000000\" points=\"677.9874,-215.7269 669.0716,-210.0034 672.4722,-220.0376 677.9874,-215.7269\"/>\n<text text-anchor=\"middle\" x=\"710\" y=\"-231.8\" font-family=\"Times,serif\" font-size=\"14.00\" fill=\"#000000\">nsubj</text>\n</g>\n<!-- 18 -->\n<g id=\"node20\" class=\"node\">\n<title>18</title>\n<text text-anchor=\"middle\" x=\"741\" y=\"-188.3\" font-family=\"Times,serif\" font-size=\"14.00\" fill=\"#000000\">18 (Бить)</text>\n</g>\n<!-- 16&#45;&gt;18 -->\n<g id=\"edge19\" class=\"edge\">\n<title>16&#45;&gt;18</title>\n<path fill=\"none\" stroke=\"#000000\" d=\"M726.7296,-260.9735C729.1672,-249.1918 732.4012,-233.5607 735.1742,-220.1581\"/>\n<polygon fill=\"#000000\" stroke=\"#000000\" points=\"738.6764,-220.5051 737.2752,-210.0034 731.8216,-219.0868 738.6764,-220.5051\"/>\n<text text-anchor=\"middle\" x=\"746.5\" y=\"-231.8\" font-family=\"Times,serif\" font-size=\"14.00\" fill=\"#000000\">conj</text>\n</g>\n<!-- 21 -->\n<g id=\"node24\" class=\"node\">\n<title>21</title>\n<text text-anchor=\"middle\" x=\"828\" y=\"-188.3\" font-family=\"Times,serif\" font-size=\"14.00\" fill=\"#000000\">21 (,)</text>\n</g>\n<!-- 24&#45;&gt;21 -->\n<g id=\"edge25\" class=\"edge\">\n<title>24&#45;&gt;21</title>\n<path fill=\"none\" stroke=\"#000000\" d=\"M834.3424,-260.9735C833.259,-249.1918 831.8217,-233.5607 830.5892,-220.1581\"/>\n<polygon fill=\"#000000\" stroke=\"#000000\" points=\"834.0565,-219.6408 829.6555,-210.0034 827.086,-220.2819 834.0565,-219.6408\"/>\n<text text-anchor=\"middle\" x=\"849.5\" y=\"-231.8\" font-family=\"Times,serif\" font-size=\"14.00\" fill=\"#000000\">punct</text>\n</g>\n<!-- 27 -->\n<g id=\"node27\" class=\"node\">\n<title>27</title>\n<text text-anchor=\"middle\" x=\"900\" y=\"-188.3\" font-family=\"Times,serif\" font-size=\"14.00\" fill=\"#000000\">27 (,)</text>\n</g>\n<!-- 24&#45;&gt;27 -->\n<g id=\"edge26\" class=\"edge\">\n<title>24&#45;&gt;27</title>\n<path fill=\"none\" stroke=\"#000000\" d=\"M854.8388,-260.6519C860.0186,-255.1927 865.4562,-249.0486 870,-243 875.5876,-235.562 880.9762,-227.004 885.6074,-219.0494\"/>\n<polygon fill=\"#000000\" stroke=\"#000000\" points=\"888.7959,-220.5208 890.6626,-210.0917 882.6996,-217.0804 888.7959,-220.5208\"/>\n<text text-anchor=\"middle\" x=\"897.5\" y=\"-231.8\" font-family=\"Times,serif\" font-size=\"14.00\" fill=\"#000000\">punct</text>\n</g>\n<!-- 26 -->\n<g id=\"node28\" class=\"node\">\n<title>26</title>\n<text text-anchor=\"middle\" x=\"981\" y=\"-188.3\" font-family=\"Times,serif\" font-size=\"14.00\" fill=\"#000000\">26 (дети)</text>\n</g>\n<!-- 24&#45;&gt;26 -->\n<g id=\"edge27\" class=\"edge\">\n<title>24&#45;&gt;26</title>\n<path fill=\"none\" stroke=\"#000000\" d=\"M878.8005,-262.768C891.758,-257.1833 905.784,-250.4411 918,-243 930.3542,-235.4747 942.945,-225.7696 953.5904,-216.8487\"/>\n<polygon fill=\"#000000\" stroke=\"#000000\" points=\"955.9997,-219.3934 961.3157,-210.2288 951.4448,-214.078 955.9997,-219.3934\"/>\n<text text-anchor=\"middle\" x=\"950.5\" y=\"-231.8\" font-family=\"Times,serif\" font-size=\"14.00\" fill=\"#000000\">conj</text>\n</g>\n<!-- 30 -->\n<g id=\"node29\" class=\"node\">\n<title>30</title>\n<text text-anchor=\"middle\" x=\"1076\" y=\"-188.3\" font-family=\"Times,serif\" font-size=\"14.00\" fill=\"#000000\">30 (гулять)</text>\n</g>\n<!-- 24&#45;&gt;30 -->\n<g id=\"edge28\" class=\"edge\">\n<title>24&#45;&gt;30</title>\n<path fill=\"none\" stroke=\"#000000\" d=\"M878.7307,-263.7941C881.8553,-262.8098 884.969,-261.8671 888,-261 922.6221,-251.0954 932.9418,-254.6973 967,-243 989.3462,-235.3252 1013.2204,-224.4786 1032.9119,-214.7602\"/>\n<polygon fill=\"#000000\" stroke=\"#000000\" points=\"1034.5553,-217.8516 1041.9302,-210.2449 1031.4213,-211.5924 1034.5553,-217.8516\"/>\n<text text-anchor=\"middle\" x=\"1023\" y=\"-231.8\" font-family=\"Times,serif\" font-size=\"14.00\" fill=\"#000000\">xcomp</text>\n</g>\n<!-- 17 -->\n<g id=\"node21\" class=\"node\">\n<title>17</title>\n<text text-anchor=\"middle\" x=\"642\" y=\"-101.3\" font-family=\"Times,serif\" font-size=\"14.00\" fill=\"#000000\">17 (,)</text>\n</g>\n<!-- 18&#45;&gt;17 -->\n<g id=\"edge20\" class=\"edge\">\n<title>18&#45;&gt;17</title>\n<path fill=\"none\" stroke=\"#000000\" d=\"M720.4871,-173.9735C705.8856,-161.1419 686.0884,-143.7443 670.0302,-129.6326\"/>\n<polygon fill=\"#000000\" stroke=\"#000000\" points=\"672.3087,-126.9755 662.4866,-123.0034 667.6878,-132.2336 672.3087,-126.9755\"/>\n<text text-anchor=\"middle\" x=\"714.5\" y=\"-144.8\" font-family=\"Times,serif\" font-size=\"14.00\" fill=\"#000000\">punct</text>\n</g>\n<!-- 20 -->\n<g id=\"node22\" class=\"node\">\n<title>20</title>\n<text text-anchor=\"middle\" x=\"735\" y=\"-101.3\" font-family=\"Times,serif\" font-size=\"14.00\" fill=\"#000000\">20 (обижать)</text>\n</g>\n<!-- 18&#45;&gt;20 -->\n<g id=\"edge21\" class=\"edge\">\n<title>18&#45;&gt;20</title>\n<path fill=\"none\" stroke=\"#000000\" d=\"M739.7568,-173.9735C738.9443,-162.1918 737.8663,-146.5607 736.9419,-133.1581\"/>\n<polygon fill=\"#000000\" stroke=\"#000000\" points=\"740.4214,-132.7388 736.2416,-123.0034 733.438,-133.2205 740.4214,-132.7388\"/>\n<text text-anchor=\"middle\" x=\"751.5\" y=\"-144.8\" font-family=\"Times,serif\" font-size=\"14.00\" fill=\"#000000\">conj</text>\n</g>\n<!-- 19 -->\n<g id=\"node23\" class=\"node\">\n<title>19</title>\n<text text-anchor=\"middle\" x=\"735\" y=\"-14.3\" font-family=\"Times,serif\" font-size=\"14.00\" fill=\"#000000\">19 (и)</text>\n</g>\n<!-- 20&#45;&gt;19 -->\n<g id=\"edge22\" class=\"edge\">\n<title>20&#45;&gt;19</title>\n<path fill=\"none\" stroke=\"#000000\" d=\"M735,-86.9735C735,-75.1918 735,-59.5607 735,-46.1581\"/>\n<polygon fill=\"#000000\" stroke=\"#000000\" points=\"738.5001,-46.0033 735,-36.0034 731.5001,-46.0034 738.5001,-46.0033\"/>\n<text text-anchor=\"middle\" x=\"741.5\" y=\"-57.8\" font-family=\"Times,serif\" font-size=\"14.00\" fill=\"#000000\">cc</text>\n</g>\n<!-- 22 -->\n<g id=\"node25\" class=\"node\">\n<title>22</title>\n<text text-anchor=\"middle\" x=\"828\" y=\"-101.3\" font-family=\"Times,serif\" font-size=\"14.00\" fill=\"#000000\">22 (&#45;)</text>\n</g>\n<!-- 21&#45;&gt;22 -->\n<g id=\"edge23\" class=\"edge\">\n<title>21&#45;&gt;22</title>\n<path fill=\"none\" stroke=\"#000000\" d=\"M828,-173.9735C828,-162.1918 828,-146.5607 828,-133.1581\"/>\n<polygon fill=\"#000000\" stroke=\"#000000\" points=\"831.5001,-133.0033 828,-123.0034 824.5001,-133.0034 831.5001,-133.0033\"/>\n<text text-anchor=\"middle\" x=\"854\" y=\"-144.8\" font-family=\"Times,serif\" font-size=\"14.00\" fill=\"#000000\">goeswith</text>\n</g>\n<!-- 23 -->\n<g id=\"node26\" class=\"node\">\n<title>23</title>\n<text text-anchor=\"middle\" x=\"904\" y=\"-101.3\" font-family=\"Times,serif\" font-size=\"14.00\" fill=\"#000000\">23 (Не)</text>\n</g>\n<!-- 21&#45;&gt;23 -->\n<g id=\"edge24\" class=\"edge\">\n<title>21&#45;&gt;23</title>\n<path fill=\"none\" stroke=\"#000000\" d=\"M855.1232,-178.1737C864.5724,-172.3349 874.64,-164.8268 882,-156 887.6195,-149.2605 892.0238,-140.8681 895.3667,-132.8495\"/>\n<polygon fill=\"#000000\" stroke=\"#000000\" points=\"898.6801,-133.9821 898.9283,-123.3902 892.1291,-131.5155 898.6801,-133.9821\"/>\n<text text-anchor=\"middle\" x=\"918\" y=\"-144.8\" font-family=\"Times,serif\" font-size=\"14.00\" fill=\"#000000\">goeswith</text>\n</g>\n<!-- 25 -->\n<g id=\"node30\" class=\"node\">\n<title>25</title>\n<text text-anchor=\"middle\" x=\"981\" y=\"-101.3\" font-family=\"Times,serif\" font-size=\"14.00\" fill=\"#000000\">25 (,)</text>\n</g>\n<!-- 26&#45;&gt;25 -->\n<g id=\"edge29\" class=\"edge\">\n<title>26&#45;&gt;25</title>\n<path fill=\"none\" stroke=\"#000000\" d=\"M981,-173.9735C981,-162.1918 981,-146.5607 981,-133.1581\"/>\n<polygon fill=\"#000000\" stroke=\"#000000\" points=\"984.5001,-133.0033 981,-123.0034 977.5001,-133.0034 984.5001,-133.0033\"/>\n<text text-anchor=\"middle\" x=\"997.5\" y=\"-144.8\" font-family=\"Times,serif\" font-size=\"14.00\" fill=\"#000000\">punct</text>\n</g>\n<!-- 29 -->\n<g id=\"node32\" class=\"node\">\n<title>29</title>\n<text text-anchor=\"middle\" x=\"1076\" y=\"-101.3\" font-family=\"Times,serif\" font-size=\"14.00\" fill=\"#000000\">29 (Африку)</text>\n</g>\n<!-- 30&#45;&gt;29 -->\n<g id=\"edge31\" class=\"edge\">\n<title>30&#45;&gt;29</title>\n<path fill=\"none\" stroke=\"#000000\" d=\"M1076,-173.9735C1076,-162.1918 1076,-146.5607 1076,-133.1581\"/>\n<polygon fill=\"#000000\" stroke=\"#000000\" points=\"1079.5001,-133.0033 1076,-123.0034 1072.5001,-133.0034 1079.5001,-133.0033\"/>\n<text text-anchor=\"middle\" x=\"1085.5\" y=\"-144.8\" font-family=\"Times,serif\" font-size=\"14.00\" fill=\"#000000\">obl</text>\n</g>\n<!-- 28 -->\n<g id=\"node31\" class=\"node\">\n<title>28</title>\n<text text-anchor=\"middle\" x=\"1076\" y=\"-14.3\" font-family=\"Times,serif\" font-size=\"14.00\" fill=\"#000000\">28 (В)</text>\n</g>\n<!-- 29&#45;&gt;28 -->\n<g id=\"edge30\" class=\"edge\">\n<title>29&#45;&gt;28</title>\n<path fill=\"none\" stroke=\"#000000\" d=\"M1076,-86.9735C1076,-75.1918 1076,-59.5607 1076,-46.1581\"/>\n<polygon fill=\"#000000\" stroke=\"#000000\" points=\"1079.5001,-46.0033 1076,-36.0034 1072.5001,-46.0034 1079.5001,-46.0033\"/>\n<text text-anchor=\"middle\" x=\"1088\" y=\"-57.8\" font-family=\"Times,serif\" font-size=\"14.00\" fill=\"#000000\">case</text>\n</g>\n</g>\n</svg>\n"
          },
          "metadata": {},
          "execution_count": 103
        }
      ]
    },
    {
      "cell_type": "code",
      "source": [
        "ud_tree2 = ud_graph2.tree()\n",
        "print(ud_tree2.pretty_print())"
      ],
      "metadata": {
        "colab": {
          "base_uri": "https://localhost:8080/"
        },
        "id": "K8fCRHSRdvn8",
        "outputId": "c92ba687-4038-438a-ce90-dc36c54f2e9a"
      },
      "execution_count": 104,
      "outputs": [
        {
          "output_type": "stream",
          "name": "stdout",
          "text": [
            "                                                   Будут                                                       \n",
            "     ________________________________________________|_________________________________________                 \n",
            "    |      |      Африке                      |              кусать                          ходите            \n",
            "    |      |    ____|_____________            |            ____|_____              ____________|___________     \n",
            "    |      |   |    |      |   гориллы        |           |         Бить          |       |          |   гулять\n",
            "    |      |   |    |      |      |           |           |     _____|______      |       |          |     |    \n",
            "    |      |   |    |    акулы  Африке      Африке        |    |         обижать  |       ,         дети Африку\n",
            "    |      |   |    |      |      |      _____|______     |    |            |     |    ___|____      |     |    \n",
            "крокодилы  .   В    ,      ,      В     В  большие  Злые вас   ,            и     ,   -        Не    ,     В   \n",
            "\n",
            "None\n"
          ]
        }
      ]
    }
  ]
}